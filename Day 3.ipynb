{
 "cells": [
  {
   "cell_type": "markdown",
   "metadata": {},
   "source": [
    "# UOPy day 3"
   ]
  },
  {
   "cell_type": "markdown",
   "metadata": {},
   "source": [
    "# Overview\n",
    "    *Review of the content\n",
    "    *assignement\n",
    "    *exercice\n",
    "    *python-koans\n",
    "    *Documentation\n",
    "    *Book\n",
    "    *Community\n",
    "    *What I didn't cover\n",
    "    *Uopy"
   ]
  },
  {
   "cell_type": "markdown",
   "metadata": {},
   "source": [
    "# Review of the content\n",
    "\n",
    "    *Will change tactic.\n",
    "    *Add documentations (readings)\n",
    "    *More exercices\n",
    "    *Maybe more tests\n",
    "###Objective\n",
    "    *Being able to read a script\n",
    "    *Being able to write a simple script or\n",
    "    *Write a pseudo script"
   ]
  },
  {
   "cell_type": "markdown",
   "metadata": {},
   "source": [
    "# Assignment\n",
    "\n",
    "any questions about the assignement?\n"
   ]
  },
  {
   "cell_type": "markdown",
   "metadata": {},
   "source": [
    "## Review of what we learnt by doing tests"
   ]
  },
  {
   "cell_type": "markdown",
   "metadata": {},
   "source": [
    "[python-koans](https://github.com/gregmalcolm/python_koans) is a set of script built on ruby-koans. There is different version for many other languages. The principle of testing is simple. Fail-correct-pass.\n"
   ]
  },
  {
   "cell_type": "markdown",
   "metadata": {},
   "source": [
    "\n",
    "# Documentation\n",
    "\n",
    "    1.Google\n",
    "    2.Your terminal (with: help, type)\n",
    "    3.[Python documentation](https://www.python.org/doc/)\n",
    "    4.[stackoverflow](https://ottawapython.slack.com/messages/general/)\n",
    "    5.Pair progamming\n",
    "    6.[slack](https://ottawapython.slack.com/messages/general/)\n",
    "    7.IRC\n",
    "    8.Google groups\n",
    "    9.[tutorial Point](http://www.tutorialspoint.com/python/)"
   ]
  },
  {
   "cell_type": "markdown",
   "metadata": {},
   "source": [
    "## Book\n",
    "\n",
    "    *Python for Data Analysis: Data Wrangling with Pandas, NumPy, and IPython\n",
    "    *[Python for Kids: A Playful Introduction to Programming]\n",
    "    *[Python Pocket Reference (Pocket Reference (O'Reilly))]"
   ]
  },
  {
   "cell_type": "markdown",
   "metadata": {},
   "source": [
    "# Project\n",
    "    *OPAG\n",
    "    *Ruby project night\n",
    "    *Open Data book club"
   ]
  },
  {
   "cell_type": "code",
   "execution_count": 8,
   "metadata": {
    "collapsed": false
   },
   "outputs": [],
   "source": []
  },
  {
   "cell_type": "code",
   "execution_count": null,
   "metadata": {
    "collapsed": true
   },
   "outputs": [],
   "source": []
  }
 ],
 "metadata": {
  "kernelspec": {
   "display_name": "Python 3",
   "language": "python",
   "name": "python3"
  },
  "language_info": {
   "codemirror_mode": {
    "name": "ipython",
    "version": 3
   },
   "file_extension": ".py",
   "mimetype": "text/x-python",
   "name": "python",
   "nbconvert_exporter": "python",
   "pygments_lexer": "ipython3",
   "version": "3.5.1"
  }
 },
 "nbformat": 4,
 "nbformat_minor": 0
}
